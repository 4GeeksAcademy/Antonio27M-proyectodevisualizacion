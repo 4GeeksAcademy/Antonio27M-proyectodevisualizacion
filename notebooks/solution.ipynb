{
 "cells": [
  {
   "cell_type": "markdown",
   "metadata": {},
   "source": [
    "# Visualization Exercises with Matplotlib and Seaborn\n",
    "\n",
    "Data visualization is one of the most important tools in data analysis and data science. It not only allows us to explore and better understand the data, but it also helps us communicate findings effectively. Through graphs, we can detect patterns, relationships, and anomalies that would be difficult to identify with just numbers or tables."
   ]
  },
  {
   "cell_type": "code",
   "execution_count": null,
   "metadata": {},
   "outputs": [],
   "source": [
    "# Import necessary libraries\n",
    "import matplotlib.pyplot as plt\n",
    "import seaborn as sns\n",
    "import pandas as pd\n",
    "import numpy as np"
   ]
  },
  {
   "cell_type": "markdown",
   "metadata": {},
   "source": [
    "## Exercise 1 - Simple Line Plot\n",
    "\n",
    "Suppose that in your office, it takes you 10 seconds to walk 25 meters leisurely to the coffee machine. If we want to express this situation as a linear function of distance with respect to time, we use the formula:\n",
    "\n",
    "$\n",
    "\\text{distance} = \\text{speed} \\times \\text{time}\n",
    "$\n",
    "\n",
    "Since the speed is constant, it represents the slope of the function and can be interpreted as the first derivative of distance with respect to time. That is, it indicates how fast the distance changes as time passes.\n",
    "\n",
    "- **Calculate the constant speed at which you walk:** We know that you walked 25 meters in 10 seconds. What is the speed (in meters/second)?\n",
    "- **Construct the linear function that describes how distance changes with time:** Use the formula `distance = speed × time` to calculate the distance traveled each second from 0 to 10.\n",
    "- **Use Matplotlib to plot how distance changes with time:** Add labels to the axes and a title to the plot."
   ]
  },
  {
   "cell_type": "code",
   "execution_count": null,
   "metadata": {},
   "outputs": [],
   "source": [
    "x = np.arange(0, 11) # array with values from 0 to 10\n",
    "\n",
    "speed = 25 / 10 # speed in m/s\n",
    "\n",
    "def distance_function(x, speed):\n",
    "    '''Calculates the distance traveled at a given speed for each time value in x.'''\n",
    "\n",
    "    return speed * x\n",
    "\n",
    "distances = distance_function(x, speed)\n",
    "\n",
    "plt.plot(x, distance_function(x, speed), label='Distance (m)', marker='o')\n",
    "plt.title('Distance vs Time')\n",
    "plt.xlabel('Time (s)')\n",
    "plt.ylabel('Distance (m)')\n",
    "plt.show()"
   ]
  },
  {
   "cell_type": "markdown",
   "metadata": {},
   "source": [
    "### What do you think would happen to the graph if you walked faster or slower? How would the slope change? Try changing the speed to 3 m/s and plot again."
   ]
  },
  {
   "cell_type": "code",
   "execution_count": null,
   "metadata": {},
   "outputs": [],
   "source": [
    "plt.plot(x, distance_function(x, 2.5), label='2.5 m/s', marker='o')\n",
    "plt.plot(x, distance_function(x, 3.0), label='3.0 m/s', marker='o')\n",
    "plt.title('Distance vs Time')\n",
    "plt.xlabel('Time (s)')\n",
    "plt.ylabel('Distance (m)')\n",
    "plt.legend()\n",
    "plt.show()"
   ]
  },
  {
   "cell_type": "markdown",
   "metadata": {},
   "source": [
    "## Exercise 2 - Visually Representing Categorical Data\n",
    "\n",
    "Imagine you are analyzing how many students are enrolled in different majors within a university. This data, which represents **categories** (the majors), is ideal for visualization using a **bar chart**.\n",
    "\n",
    "Below is a small dataset with the number of students per major."
   ]
  },
  {
   "cell_type": "code",
   "execution_count": null,
   "metadata": {},
   "outputs": [],
   "source": [
    "df_carreras = pd.DataFrame({\n",
    "    'Carrera': ['Ingeniería', 'Medicina', 'Derecho', 'Psicología'],\n",
    "    'Estudiantes': [120, 80, 60, 100]\n",
    "})\n",
    "\n",
    "df_carreras.head()"
   ]
  },
  {
   "cell_type": "markdown",
   "metadata": {},
   "source": [
    "1. Graphically represent how many students are in each major using a vertical bar chart with Matplotlib.\n",
    "2. Label the axes correctly and add a descriptive title.\n",
    "3. Use a color that helps highlight the differences between categories. **<- Don't do this - it's redundant and causes visual noise without adding any new information.**"
   ]
  },
  {
   "cell_type": "code",
   "execution_count": null,
   "metadata": {},
   "outputs": [],
   "source": [
    "plt.bar(df_carreras['Carrera'], df_carreras['Estudiantes'])\n",
    "plt.title('Enrollment by major')\n",
    "plt.xlabel('Major')\n",
    "plt.ylabel('Students')\n",
    "plt.show()"
   ]
  },
  {
   "cell_type": "markdown",
   "metadata": {},
   "source": [
    "### What would happen if you use a **horizontal** bar chart? Is it more readable? Try to do it"
   ]
  },
  {
   "cell_type": "code",
   "execution_count": null,
   "metadata": {},
   "outputs": [],
   "source": [
    "plt.barh(df_carreras['Carrera'], df_carreras['Estudiantes'])\n",
    "plt.title('Enrollment by major')\n",
    "plt.xlabel('Major')\n",
    "plt.ylabel('Students')\n",
    "plt.show()"
   ]
  },
  {
   "cell_type": "markdown",
   "metadata": {},
   "source": [
    "## Exercise 3: Visualizing Proportions with a Pie Chart\n",
    "\n",
    "Suppose you want to understand how students are distributed among different majors at a university. Although you have already represented this data with a bar chart, now you want to see **what percentage of the total each major represents**.\n",
    "\n",
    "A very common way to represent proportions is by using a **pie chart**, as it provides a quick and intuitive view of how the whole is divided.\n",
    "\n",
    "- Represent the data from `df_carreras` as a pie chart.\n",
    "- Show the **percentage** that each major represents of the total.\n",
    "- Add a **descriptive title** that explains what is being visualized.\n"
   ]
  },
  {
   "cell_type": "code",
   "execution_count": null,
   "metadata": {},
   "outputs": [],
   "source": [
    "df_carreras.head() # Show the DataFrame\n",
    "\n",
    "plt.pie(df_carreras['Estudiantes'], labels=df_carreras['Carrera'], autopct='%1.1f%%')\n",
    "plt.title('Enrollment by major')\n",
    "plt.show()"
   ]
  },
  {
   "cell_type": "markdown",
   "metadata": {},
   "source": [
    "## Exercise 4 - Exploring the Relationship Between Two Numerical Variables by Creating a Scatter Plot with Seaborn\n",
    "\n",
    "Imagine you are analyzing the characteristics of different flower species. Each flower has several measurements:\n",
    "\n",
    "- Sepal length\n",
    "- Sepal width\n",
    "- Petal length\n",
    "- Petal width\n",
    "- Species it belongs to\n",
    "\n",
    "An excellent way to **visualize the relationship between two numerical variables** is through a **scatter plot**.\n",
    "\n",
    "In this case, we will explore if there is a relationship between the `sepal length` and `sepal width`, and if this varies according to the flower species."
   ]
  },
  {
   "cell_type": "code",
   "execution_count": null,
   "metadata": {},
   "outputs": [],
   "source": [
    "df_iris = pd.DataFrame({ # DataFrame with random data\n",
    "    'sepal_length': np.random.normal(5.8, 0.4, 150),\n",
    "    'sepal_width': np.random.normal(3.0, 0.3, 150),\n",
    "    'petal_length': np.random.normal(3.7, 1.5, 150),\n",
    "    'petal_width': np.random.normal(1.2, 0.8, 150),\n",
    "    'species': np.random.choice(['setosa', 'versicolor', 'virginica'], 150)\n",
    "})\n",
    "\n",
    "df_iris.head()"
   ]
  },
  {
   "cell_type": "markdown",
   "metadata": {},
   "source": [
    "1. Create a scatter plot with `sepal_length` on the X-axis and `sepal_width` on the Y-axis.\n",
    "2. Use the `hue` argument to differentiate the flower species.\n",
    "3. Add a descriptive title.\n",
    "4. Adjust the size of the points or the color palette to make the plot clearer. **(Optional)**"
   ]
  },
  {
   "cell_type": "code",
   "execution_count": null,
   "metadata": {},
   "outputs": [],
   "source": [
    "sns.scatterplot(data=df_iris, x='sepal_length', y='sepal_width', hue='species')\n",
    "plt.title('Sepal Length vs Sepal Width')\n",
    "plt.xlabel('Length (cm)')\n",
    "plt.ylabel('Width (cm)')\n",
    "plt.legend(title='Species')\n",
    "plt.show()"
   ]
  },
  {
   "cell_type": "markdown",
   "metadata": {},
   "source": [
    "## Exercise 5 - Visualizing Distributions with Histograms\n",
    "\n",
    "In many cases, we are not only interested in the value of a variable but also in **how those values are distributed**.\n",
    "\n",
    "Histograms are a very useful visual tool to:\n",
    "\n",
    "- See if the data is **centered** or dispersed.\n",
    "- Detect **asymmetries** (e.g., if there are more low or high values).\n",
    "- Identify possible **outliers**.\n",
    "- Observe the **overall shape** of the distribution (normal, skewed, bimodal, etc.).\n",
    "\n",
    "Let's explore how the **petal length** (`petal_length`) is distributed in a flower dataset."
   ]
  },
  {
   "cell_type": "markdown",
   "metadata": {},
   "source": [
    "1. Create a **histogram with `Seaborn`** to visualize the distribution of petal length (`petal_length`).\n",
    "2. Adjust the number of *bins* to have more or less detail.\n",
    "3. Add a title, labels, and a clear visual style."
   ]
  },
  {
   "cell_type": "code",
   "execution_count": null,
   "metadata": {},
   "outputs": [],
   "source": [
    "sns.histplot(df_iris['sepal_length'], bins=20)\n",
    "plt.title('Distribution of Sepal Length')\n",
    "plt.xlabel('Length (cm)')\n",
    "plt.ylabel('Count')\n",
    "plt.show()"
   ]
  },
  {
   "cell_type": "markdown",
   "metadata": {},
   "source": [
    "## Comparison by Species (Multiple Distributions)\n",
    "\n",
    "Now, compare the distribution of petal length for each flower species using `Seaborn` and the `hue` argument.\n",
    "\n",
    "This will allow you to analyze if there are **significant differences** between the groups."
   ]
  },
  {
   "cell_type": "code",
   "execution_count": null,
   "metadata": {},
   "outputs": [],
   "source": [
    "sns.histplot(data=df_iris, x='sepal_length', hue='species', bins=20)\n",
    "plt.title('Distribution of Sepal Length')\n",
    "plt.xlabel('Length (cm)')\n",
    "plt.ylabel('Count')\n",
    "plt.show()"
   ]
  },
  {
   "cell_type": "markdown",
   "metadata": {},
   "source": [
    "## Exercise 6 - Visualizing Relationships with Heatmaps\n",
    "\n",
    "In data science, it is important to understand how variables relate to each other. A visual way to do this is by using heatmaps, especially on correlation matrices.\n",
    "\n",
    "In this exercise, we will visualize how the numerical variables in the `df_iris` dataset are related.\n",
    "\n",
    "1. Create a heatmap that shows the correlation between the numerical variables in the `df_iris` DataFrame. First, you need to calculate the correlation matrix using `.corr()`.\n",
    "2. Use the **seaborn** library to plot the heatmap.\n",
    "3. Enable the visualization of the values within the graph `(annot=True)`.\n"
   ]
  },
  {
   "cell_type": "code",
   "execution_count": null,
   "metadata": {},
   "outputs": [],
   "source": [
    "corr_matrix = df_iris[['sepal_length', 'sepal_width', 'petal_length', 'petal_width']].corr()\n",
    "sns.heatmap(corr_matrix, annot=True, fmt=\".2f\")\n",
    "plt.title('Correlation matrix')\n",
    "plt.show()"
   ]
  },
  {
   "cell_type": "markdown",
   "metadata": {},
   "source": [
    "## Exercise 7 - Visualizing Distribution by Categories with Boxplot\n",
    "\n",
    "The boxplot allows us to compare how a numerical variable is distributed across different categories.\n",
    "\n",
    "We will compare the distribution of petal length (`petal_length`) among the different flower species in the `df_iris` dataset. The goal is to create a boxplot that compares the petal length (`petal_length`) across the different species (`species`).\n",
    "\n",
    "1. Use `seaborn.boxplot()` specifying the `x` axis with the species and the `y` axis with the petal length.\n",
    "2. It is recommended to use `plt.figure()` to adjust the size of the plot if necessary.\n"
   ]
  },
  {
   "cell_type": "code",
   "execution_count": null,
   "metadata": {},
   "outputs": [],
   "source": [
    "sns.boxplot(data=df_iris, x='species', y='petal_length')\n",
    "plt.title('Petal Length by Species')\n",
    "plt.xlabel('Species')\n",
    "plt.ylabel('Length (cm)')\n",
    "plt.show()"
   ]
  }
 ],
 "metadata": {
  "kernelspec": {
   "display_name": "Python 3",
   "language": "python",
   "name": "python3"
  },
  "language_info": {
   "codemirror_mode": {
    "name": "ipython",
    "version": 3
   },
   "file_extension": ".py",
   "mimetype": "text/x-python",
   "name": "python",
   "nbconvert_exporter": "python",
   "pygments_lexer": "ipython3",
   "version": "3.11.4"
  }
 },
 "nbformat": 4,
 "nbformat_minor": 2
}
